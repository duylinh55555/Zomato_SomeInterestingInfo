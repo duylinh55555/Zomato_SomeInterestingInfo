{
 "cells": [
  {
   "cell_type": "code",
   "execution_count": 2,
   "metadata": {},
   "outputs": [],
   "source": [
    "import pandas as pd\n",
    "\n",
    "restaurant = pd.read_csv('dataset/restaurant_n.csv', sep='\\t')"
   ]
  },
  {
   "cell_type": "code",
   "execution_count": 3,
   "metadata": {},
   "outputs": [
    {
     "data": {
      "text/html": [
       "<div>\n",
       "<style scoped>\n",
       "    .dataframe tbody tr th:only-of-type {\n",
       "        vertical-align: middle;\n",
       "    }\n",
       "\n",
       "    .dataframe tbody tr th {\n",
       "        vertical-align: top;\n",
       "    }\n",
       "\n",
       "    .dataframe thead th {\n",
       "        text-align: right;\n",
       "    }\n",
       "</style>\n",
       "<table border=\"1\" class=\"dataframe\">\n",
       "  <thead>\n",
       "    <tr style=\"text-align: right;\">\n",
       "      <th></th>\n",
       "      <th>id</th>\n",
       "      <th>name</th>\n",
       "      <th>city</th>\n",
       "      <th>rating</th>\n",
       "      <th>rating_count</th>\n",
       "      <th>cost</th>\n",
       "      <th>cuisine</th>\n",
       "    </tr>\n",
       "  </thead>\n",
       "  <tbody>\n",
       "    <tr>\n",
       "      <th>0</th>\n",
       "      <td>567335</td>\n",
       "      <td>AB FOODS POINT</td>\n",
       "      <td>Abohar</td>\n",
       "      <td>3.9</td>\n",
       "      <td>Too Few Ratings</td>\n",
       "      <td>200</td>\n",
       "      <td>Beverages,Pizzas</td>\n",
       "    </tr>\n",
       "    <tr>\n",
       "      <th>1</th>\n",
       "      <td>531342</td>\n",
       "      <td>Janta Sweet House</td>\n",
       "      <td>Abohar</td>\n",
       "      <td>4.4</td>\n",
       "      <td>50+ ratings</td>\n",
       "      <td>200</td>\n",
       "      <td>Sweets,Bakery</td>\n",
       "    </tr>\n",
       "    <tr>\n",
       "      <th>2</th>\n",
       "      <td>158203</td>\n",
       "      <td>theka coffee desi</td>\n",
       "      <td>Abohar</td>\n",
       "      <td>3.8</td>\n",
       "      <td>100+ ratings</td>\n",
       "      <td>100</td>\n",
       "      <td>Beverages</td>\n",
       "    </tr>\n",
       "    <tr>\n",
       "      <th>3</th>\n",
       "      <td>187912</td>\n",
       "      <td>Singh Hut</td>\n",
       "      <td>Abohar</td>\n",
       "      <td>3.7</td>\n",
       "      <td>20+ ratings</td>\n",
       "      <td>250</td>\n",
       "      <td>Fast Food,Indian</td>\n",
       "    </tr>\n",
       "    <tr>\n",
       "      <th>4</th>\n",
       "      <td>543530</td>\n",
       "      <td>GRILL MASTERS</td>\n",
       "      <td>Abohar</td>\n",
       "      <td>3.9</td>\n",
       "      <td>Too Few Ratings</td>\n",
       "      <td>250</td>\n",
       "      <td>Italian-American,Fast Food</td>\n",
       "    </tr>\n",
       "    <tr>\n",
       "      <th>...</th>\n",
       "      <td>...</td>\n",
       "      <td>...</td>\n",
       "      <td>...</td>\n",
       "      <td>...</td>\n",
       "      <td>...</td>\n",
       "      <td>...</td>\n",
       "      <td>...</td>\n",
       "    </tr>\n",
       "    <tr>\n",
       "      <th>148250</th>\n",
       "      <td>553122</td>\n",
       "      <td>The Food Delight</td>\n",
       "      <td>Yavatmal</td>\n",
       "      <td>3.9</td>\n",
       "      <td>Too Few Ratings</td>\n",
       "      <td>200</td>\n",
       "      <td>Fast Food,Snacks</td>\n",
       "    </tr>\n",
       "    <tr>\n",
       "      <th>148251</th>\n",
       "      <td>562647</td>\n",
       "      <td>MAITRI FOODS &amp; BEVERAGES</td>\n",
       "      <td>Yavatmal</td>\n",
       "      <td>3.9</td>\n",
       "      <td>Too Few Ratings</td>\n",
       "      <td>300</td>\n",
       "      <td>Pizzas</td>\n",
       "    </tr>\n",
       "    <tr>\n",
       "      <th>148252</th>\n",
       "      <td>559435</td>\n",
       "      <td>Cafe Bella Ciao</td>\n",
       "      <td>Yavatmal</td>\n",
       "      <td>3.9</td>\n",
       "      <td>Too Few Ratings</td>\n",
       "      <td>300</td>\n",
       "      <td>Fast Food,Snacks</td>\n",
       "    </tr>\n",
       "    <tr>\n",
       "      <th>148253</th>\n",
       "      <td>418989</td>\n",
       "      <td>GRILL ZILLA</td>\n",
       "      <td>Yavatmal</td>\n",
       "      <td>3.9</td>\n",
       "      <td>Too Few Ratings</td>\n",
       "      <td>250</td>\n",
       "      <td>Continental</td>\n",
       "    </tr>\n",
       "    <tr>\n",
       "      <th>148254</th>\n",
       "      <td>447770</td>\n",
       "      <td>Lazeez kitchen</td>\n",
       "      <td>Yavatmal</td>\n",
       "      <td>3.9</td>\n",
       "      <td>Too Few Ratings</td>\n",
       "      <td>200</td>\n",
       "      <td>Pizzas</td>\n",
       "    </tr>\n",
       "  </tbody>\n",
       "</table>\n",
       "<p>148255 rows × 7 columns</p>\n",
       "</div>"
      ],
      "text/plain": [
       "            id                      name      city  rating     rating_count  \\\n",
       "0       567335            AB FOODS POINT    Abohar     3.9  Too Few Ratings   \n",
       "1       531342         Janta Sweet House    Abohar     4.4      50+ ratings   \n",
       "2       158203         theka coffee desi    Abohar     3.8     100+ ratings   \n",
       "3       187912                 Singh Hut    Abohar     3.7      20+ ratings   \n",
       "4       543530             GRILL MASTERS    Abohar     3.9  Too Few Ratings   \n",
       "...        ...                       ...       ...     ...              ...   \n",
       "148250  553122          The Food Delight  Yavatmal     3.9  Too Few Ratings   \n",
       "148251  562647  MAITRI FOODS & BEVERAGES  Yavatmal     3.9  Too Few Ratings   \n",
       "148252  559435           Cafe Bella Ciao  Yavatmal     3.9  Too Few Ratings   \n",
       "148253  418989               GRILL ZILLA  Yavatmal     3.9  Too Few Ratings   \n",
       "148254  447770            Lazeez kitchen  Yavatmal     3.9  Too Few Ratings   \n",
       "\n",
       "        cost                     cuisine  \n",
       "0        200            Beverages,Pizzas  \n",
       "1        200               Sweets,Bakery  \n",
       "2        100                   Beverages  \n",
       "3        250            Fast Food,Indian  \n",
       "4        250  Italian-American,Fast Food  \n",
       "...      ...                         ...  \n",
       "148250   200            Fast Food,Snacks  \n",
       "148251   300                      Pizzas  \n",
       "148252   300            Fast Food,Snacks  \n",
       "148253   250                 Continental  \n",
       "148254   200                      Pizzas  \n",
       "\n",
       "[148255 rows x 7 columns]"
      ]
     },
     "execution_count": 3,
     "metadata": {},
     "output_type": "execute_result"
    }
   ],
   "source": [
    "restaurant"
   ]
  },
  {
   "cell_type": "code",
   "execution_count": 20,
   "metadata": {},
   "outputs": [
    {
     "name": "stderr",
     "output_type": "stream",
     "text": [
      "C:\\Users\\DUY LINH\\AppData\\Local\\Temp\\ipykernel_24604\\3846066472.py:2: SettingWithCopyWarning: \n",
      "A value is trying to be set on a copy of a slice from a DataFrame\n",
      "\n",
      "See the caveats in the documentation: https://pandas.pydata.org/pandas-docs/stable/user_guide/indexing.html#returning-a-view-versus-a-copy\n",
      "  orders.drop_duplicates(keep=False, inplace=True)\n"
     ]
    }
   ],
   "source": [
    "orders = orders.dropna()\n",
    "orders.drop_duplicates(keep=False, inplace=True)"
   ]
  },
  {
   "attachments": {},
   "cell_type": "markdown",
   "metadata": {},
   "source": [
    "Xóa các đơn đặt hàng có doanh thu âm, thanh toán bằng USD"
   ]
  },
  {
   "cell_type": "code",
   "execution_count": 18,
   "metadata": {},
   "outputs": [],
   "source": [
    "orders = orders[orders['sales_amount'] > 0]\n",
    "orders = orders[orders['currency'] != 'USD']"
   ]
  },
  {
   "cell_type": "code",
   "execution_count": 28,
   "metadata": {},
   "outputs": [
    {
     "data": {
      "text/plain": [
       "(147061, 5)"
      ]
     },
     "execution_count": 28,
     "metadata": {},
     "output_type": "execute_result"
    }
   ],
   "source": [
    "orders_n.shape"
   ]
  },
  {
   "cell_type": "markdown",
   "metadata": {},
   "source": [
    "Xuất data đã được chuẩn hóa"
   ]
  },
  {
   "cell_type": "code",
   "execution_count": 107,
   "metadata": {},
   "outputs": [],
   "source": [
    "restaurant.to_csv('dataset/restaurant_n.csv', \n",
    "                  columns=['id', 'city', 'rating', 'rating_count'\n",
    "                           , 'cost', 'cuisine']\n",
    "                  , sep='\\t', index=False)"
   ]
  },
  {
   "attachments": {},
   "cell_type": "markdown",
   "metadata": {},
   "source": [
    "geopy\n"
   ]
  },
  {
   "cell_type": "code",
   "execution_count": 112,
   "metadata": {},
   "outputs": [
    {
     "data": {
      "text/plain": [
       "array(['', 'Andhra Pradesh', 'Arunachal Pradesh', 'Assam',\n",
       "       'Auvergne-Rhône-Alpes', 'Banda', 'Bihar', 'Centre-Val de Loire',\n",
       "       'Chhattisgarh', 'Dadra and Nagar Haveli and Daman and Diu',\n",
       "       'Delhi', 'Goa', 'Gujarat', 'Haryana', 'Himachal Pradesh',\n",
       "       'Jammu and Kashmir', 'Jawa Tengah', 'Jharkhand', 'Karnataka',\n",
       "       'Kerala', 'Madhya Pradesh', 'Maharashtra', 'Manipur', 'Meghalaya',\n",
       "       'Mizoram', 'Nagaland', 'Nouvelle-Aquitaine', 'Occitanie', 'Odisha',\n",
       "       'Oregon', 'Puducherry', 'Punjab', 'Rajasthan', 'Sardigna/Sardegna',\n",
       "       'Sikkim', 'Tamil Nadu', 'Telangana', 'Tripura', 'Uttar Pradesh',\n",
       "       'Uttarakhand', 'West Bengal', 'Île-de-France', 'استان خراسان رضوی'],\n",
       "      dtype=object)"
      ]
     },
     "execution_count": 112,
     "metadata": {},
     "output_type": "execute_result"
    }
   ],
   "source": [
    "restaurant['city'].sort_values().unique()"
   ]
  },
  {
   "attachments": {},
   "cell_type": "markdown",
   "metadata": {},
   "source": [
    "Lấy tên bang từ thông tin địa chỉ, tên thành phố"
   ]
  },
  {
   "cell_type": "code",
   "execution_count": 113,
   "metadata": {},
   "outputs": [],
   "source": [
    "formated_city = []\n",
    "wrong_format_city = {'Bapatlachirala': 'Chirala', '':'Uttar Pradesh', \n",
    "                     'Bharabanki':'Barabanki', 'Bodhan-rural':'Bodhan',\n",
    "                     'Bongaon':'Bangaon', 'Karunagappaly':'Karunagappally',\n",
    "                     'Kothamanagalam':'Kothamangalam', 'Kunnamkullam':'Kunnamkulam',\n",
    "                     'Surendranagar-dudhrej':'Surendranagar', 'Banda':'Uttar Pradesh'}\n",
    "\n",
    "for index, row in restaurant.iterrows():\n",
    "    city = row['city']\n",
    "    \n",
    "    if city not in formated_city:\n",
    "    \n",
    "        last_city = city.rpartition(',')[-1]\n",
    "        \n",
    "        restaurant.loc[restaurant['city'] == city, 'city'] = last_city\n",
    "        formated_city.extend([city])\n",
    "        \n",
    "    for key, value in wrong_format_city.items():\n",
    "        if city == key:\n",
    "            restaurant.loc[restaurant['city'] == city, 'city'] = value"
   ]
  },
  {
   "cell_type": "code",
   "execution_count": null,
   "metadata": {},
   "outputs": [],
   "source": [
    "from geopy.geocoders import Nominatim\n",
    "\n",
    "formated_state_city = []\n",
    "geolocator = Nominatim(user_agent=\"http\")\n",
    "\n",
    "for index, row in restaurant.iterrows():\n",
    "    city = row['city']\n",
    "\n",
    "    if city not in formated_state_city:\n",
    "        location = geolocator.geocode(city, addressdetails=True)\n",
    "\n",
    "        full_address = location.raw['address']\n",
    "        state = full_address.get('state', '')\n",
    "\n",
    "        restaurant.loc[restaurant['city'] == city, 'city'] = state\n",
    "        formated_state_city.extend([city])"
   ]
  }
 ],
 "metadata": {
  "kernelspec": {
   "display_name": "base",
   "language": "python",
   "name": "python3"
  },
  "language_info": {
   "codemirror_mode": {
    "name": "ipython",
    "version": 3
   },
   "file_extension": ".py",
   "mimetype": "text/x-python",
   "name": "python",
   "nbconvert_exporter": "python",
   "pygments_lexer": "ipython3",
   "version": "3.9.13"
  },
  "orig_nbformat": 4
 },
 "nbformat": 4,
 "nbformat_minor": 2
}
