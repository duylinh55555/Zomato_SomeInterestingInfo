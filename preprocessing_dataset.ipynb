{
 "cells": [
  {
   "attachments": {},
   "cell_type": "markdown",
   "metadata": {},
   "source": [
    "* Lựa chọn các thông tin có giá trị (xóa các cột không cần thiết)\n",
    "    + Cột đầu tiên của tất cả các bảng\n",
    "    + food: item\n",
    "    + menu: cuisine\n",
    "    + order: currency (xóa cả dòng có currency = USD)\n",
    "    + restaurant: lic_no, link, address, menu, rating_count\n",
    "    + users: name, email, password\n",
    "\n",
    "* Chuẩn hóa dữ liệu\n",
    "    + food: veg_non_veg -> 0,1\n",
    "    + orders: sales_amount -> giá trị âm\n",
    "    + restaurant: cost -> xóa ký tự rup, cuisine -> tách ra\n",
    "    + users: Monthly Income -> 0, 1, 2\n",
    "\n",
    "* Rút gọn dữ liệu (tổng hợp số liệu theo tháng) (optinal)\n"
   ]
  },
  {
   "cell_type": "code",
   "execution_count": 2,
   "metadata": {},
   "outputs": [
    {
     "name": "stderr",
     "output_type": "stream",
     "text": [
      "C:\\Users\\DUY LINH\\AppData\\Local\\Temp\\ipykernel_16424\\2619362460.py:4: DtypeWarning: Columns (4) have mixed types. Specify dtype option on import or set low_memory=False.\n",
      "  menu = pd.read_csv('dataset/menu_n.csv', on_bad_lines='skip', sep='\\t')\n"
     ]
    }
   ],
   "source": [
    "import pandas as pd\n",
    "\n",
    "food = pd.read_csv('dataset/food_n.csv', sep='\\t')\n",
    "menu = pd.read_csv('dataset/menu_n.csv', on_bad_lines='skip', sep='\\t')\n",
    "orders = pd.read_csv('dataset/orders_n.csv', sep='\\t')\n",
    "restaurant = pd.read_csv('dataset/restaurant_n.csv', on_bad_lines='skip', sep='\\t')\n",
    "users = pd.read_csv('dataset/users_n.csv', sep='\\t')\n"
   ]
  },
  {
   "cell_type": "code",
   "execution_count": 10,
   "metadata": {},
   "outputs": [
    {
     "name": "stdout",
     "output_type": "stream",
     "text": [
      "<class 'pandas.core.frame.DataFrame'>\n",
      "Index: 1179438 entries, mn0\t567335\tfd0\tBeverages to mn1048562\t96525\tfd1048562\tIce Cream\n",
      "Data columns (total 1 columns):\n",
      " #   Column                           Non-Null Count   Dtype \n",
      "---  ------                           --------------   ----- \n",
      " 0   menu_id\tr_id\tf_id\tcuisine\tprice  938315 non-null  object\n",
      "dtypes: object(1)\n",
      "memory usage: 18.0+ MB\n"
     ]
    }
   ],
   "source": [
    "# food.info()\n",
    "menu.info()\n",
    "# orders.info()\n",
    "# restaurant.info()\n",
    "# users.info()"
   ]
  },
  {
   "cell_type": "code",
   "execution_count": 4,
   "metadata": {},
   "outputs": [
    {
     "name": "stdout",
     "output_type": "stream",
     "text": [
      "Shape of food table:         (371560, 2)\n",
      "Shape of menu table:         (1179936, 5)\n",
      "Shape of orders table:       (147061, 5)\n",
      "Shape of restaurant table:   (148255, 7)\n",
      "Shape of users table:        (100000, 8)\n"
     ]
    }
   ],
   "source": [
    "print('Shape of food table:         ({}, {})'.format(food.shape[0], food.shape[1]))\n",
    "print('Shape of menu table:         ({}, {})'.format(menu.shape[0], menu.shape[1]))\n",
    "print('Shape of orders table:       ({}, {})'.format(orders.shape[0], orders.shape[1]))\n",
    "print('Shape of restaurant table:   ({}, {})'.format(restaurant.shape[0], restaurant.shape[1]))\n",
    "print('Shape of users table:        ({}, {})'.format(users.shape[0], users.shape[1]))"
   ]
  },
  {
   "attachments": {},
   "cell_type": "markdown",
   "metadata": {},
   "source": [
    "Xóa dữ liệu có giá trị bất kỳ null, giá trị trùng lặp"
   ]
  },
  {
   "cell_type": "code",
   "execution_count": 168,
   "metadata": {},
   "outputs": [],
   "source": [
    "users = users.dropna()\n",
    "users.drop_duplicates(keep=False, inplace=True)"
   ]
  },
  {
   "attachments": {},
   "cell_type": "markdown",
   "metadata": {},
   "source": [
    "Normalization "
   ]
  },
  {
   "cell_type": "code",
   "execution_count": 177,
   "metadata": {},
   "outputs": [],
   "source": [
    "food_menu = pd.merge(food, menu, on='f_id', how='inner')"
   ]
  },
  {
   "cell_type": "code",
   "execution_count": 304,
   "metadata": {},
   "outputs": [],
   "source": [
    "restaurant['rating'] = pd.to_numeric(restaurant['rating'], errors='coerce').astype('float64')"
   ]
  },
  {
   "cell_type": "code",
   "execution_count": null,
   "metadata": {},
   "outputs": [],
   "source": [
    "restaurant['rating'] = restaurant['rating'].map({'--': restaurant['rating'].mean()})"
   ]
  },
  {
   "cell_type": "markdown",
   "metadata": {},
   "source": [
    "Điền giá trị trung bình vào các dòng có rating là rỗng"
   ]
  },
  {
   "cell_type": "code",
   "execution_count": 305,
   "metadata": {},
   "outputs": [],
   "source": [
    "restaurant['rating'] = restaurant['rating'].map({'--': restaurant['rating'].mean()})\n",
    "restaurant['rating'].fillna((restaurant['rating'].mean()), inplace=True)"
   ]
  },
  {
   "cell_type": "markdown",
   "metadata": {},
   "source": [
    "Xóa các đơn đặt hàng có doanh thu âm, thanh toán bằng USD"
   ]
  },
  {
   "cell_type": "code",
   "execution_count": null,
   "metadata": {},
   "outputs": [],
   "source": [
    "orders = orders[orders['sales_amount'] > 0]\n",
    "orders = orders[orders['currency'] != 'USD']"
   ]
  },
  {
   "cell_type": "code",
   "execution_count": 312,
   "metadata": {},
   "outputs": [],
   "source": [
    "restaurant[\"cost\"] = restaurant[\"cost\"].str.replace(\"₹ \", \"\").astype(int)"
   ]
  },
  {
   "cell_type": "markdown",
   "metadata": {},
   "source": [
    "geopy\n"
   ]
  },
  {
   "cell_type": "code",
   "execution_count": null,
   "metadata": {},
   "outputs": [
    {
     "data": {
      "text/plain": [
       "array(['', 'Andhra Pradesh', 'Arunachal Pradesh', 'Assam',\n",
       "       'Auvergne-Rhône-Alpes', 'Banda', 'Bihar', 'Centre-Val de Loire',\n",
       "       'Chhattisgarh', 'Dadra and Nagar Haveli and Daman and Diu',\n",
       "       'Delhi', 'Goa', 'Gujarat', 'Haryana', 'Himachal Pradesh',\n",
       "       'Jammu and Kashmir', 'Jawa Tengah', 'Jharkhand', 'Karnataka',\n",
       "       'Kerala', 'Madhya Pradesh', 'Maharashtra', 'Manipur', 'Meghalaya',\n",
       "       'Mizoram', 'Nagaland', 'Nouvelle-Aquitaine', 'Occitanie', 'Odisha',\n",
       "       'Oregon', 'Puducherry', 'Punjab', 'Rajasthan', 'Sardigna/Sardegna',\n",
       "       'Sikkim', 'Tamil Nadu', 'Telangana', 'Tripura', 'Uttar Pradesh',\n",
       "       'Uttarakhand', 'West Bengal', 'Île-de-France', 'استان خراسان رضوی'],\n",
       "      dtype=object)"
      ]
     },
     "metadata": {},
     "output_type": "display_data"
    }
   ],
   "source": [
    "restaurant['city'].sort_values().unique()"
   ]
  },
  {
   "cell_type": "markdown",
   "metadata": {},
   "source": [
    "Lấy tên bang từ thông tin địa chỉ, tên thành phố"
   ]
  },
  {
   "cell_type": "code",
   "execution_count": null,
   "metadata": {},
   "outputs": [],
   "source": [
    "formated_city = []\n",
    "wrong_format_city = {'Bapatlachirala': 'Chirala', '':'Uttar Pradesh', \n",
    "                     'Bharabanki':'Barabanki', 'Bodhan-rural':'Bodhan',\n",
    "                     'Bongaon':'Bangaon', 'Karunagappaly':'Karunagappally',\n",
    "                     'Kothamanagalam':'Kothamangalam', 'Kunnamkullam':'Kunnamkulam',\n",
    "                     'Surendranagar-dudhrej':'Surendranagar', 'Banda':'Uttar Pradesh'}\n",
    "\n",
    "for index, row in restaurant.iterrows():\n",
    "    city = row['city']\n",
    "    \n",
    "    if city not in formated_city:\n",
    "    \n",
    "        last_city = city.rpartition(',')[-1]\n",
    "        \n",
    "        restaurant.loc[restaurant['city'] == city, 'city'] = last_city\n",
    "        formated_city.extend([city])\n",
    "        \n",
    "    for key, value in wrong_format_city.items():\n",
    "        if city == key:\n",
    "            restaurant.loc[restaurant['city'] == city, 'city'] = value"
   ]
  },
  {
   "cell_type": "code",
   "execution_count": null,
   "metadata": {},
   "outputs": [],
   "source": [
    "from geopy.geocoders import Nominatim\n",
    "\n",
    "formated_state_city = []\n",
    "geolocator = Nominatim(user_agent=\"http\")\n",
    "\n",
    "for index, row in restaurant.iterrows():\n",
    "    city = row['city']\n",
    "\n",
    "    if city not in formated_state_city:\n",
    "        location = geolocator.geocode(city, addressdetails=True)\n",
    "\n",
    "        full_address = location.raw['address']\n",
    "        state = full_address.get('state', '')\n",
    "\n",
    "        restaurant.loc[restaurant['city'] == city, 'city'] = state\n",
    "        formated_state_city.extend([city])"
   ]
  },
  {
   "cell_type": "markdown",
   "metadata": {},
   "source": [
    "Xuất data đã được chuẩn hóa"
   ]
  },
  {
   "cell_type": "code",
   "execution_count": null,
   "metadata": {},
   "outputs": [],
   "source": [
    "food.to_csv('dataset/food_n.csv', \n",
    "                  columns=['f_id', 'veg_or_non_veg']\n",
    "                  , sep='\\t', index=False)\n",
    "\n",
    "menu.to_csv('dataset/menu_n.csv', \n",
    "                  columns=['menu_id', 'r_id', 'f_id', 'cuisine', 'price']\n",
    "                  , sep='\\t', index=False)\n",
    "\n",
    "restaurant.to_csv('dataset/restaurant_n.csv', \n",
    "                  columns=['id', 'city', 'rating', 'rating_count'\n",
    "                           , 'cost', 'cuisine']\n",
    "                  , sep='\\t', index=False)\n",
    "\n",
    "orders.to_csv('dataset/orders_n.csv', \n",
    "                  columns=['order_date', 'sales_qty', 'sales_amount'\n",
    "                           , 'user_id', 'cur_idisine']\n",
    "                  , sep='\\t', index=False)\n",
    "\n",
    "users.to_csv('dataset/users_n.csv', \n",
    "                  columns=['user_id', 'Age', 'Gender', 'Marital'\n",
    "                           , 'Status', 'Occupation', 'Monthly Income'\n",
    "                           , 'Educational', 'Qualifications'\n",
    "                           , 'Family size']\n",
    "                  , sep='\\t', index=False)"
   ]
  }
 ],
 "metadata": {
  "kernelspec": {
   "display_name": "base",
   "language": "python",
   "name": "python3"
  },
  "language_info": {
   "codemirror_mode": {
    "name": "ipython",
    "version": 3
   },
   "file_extension": ".py",
   "mimetype": "text/x-python",
   "name": "python",
   "nbconvert_exporter": "python",
   "pygments_lexer": "ipython3",
   "version": "3.9.13"
  },
  "orig_nbformat": 4
 },
 "nbformat": 4,
 "nbformat_minor": 2
}
